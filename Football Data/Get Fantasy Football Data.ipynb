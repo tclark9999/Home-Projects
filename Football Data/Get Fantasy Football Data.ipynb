{
    "metadata": {
        "kernelspec": {
            "name": "python3",
            "display_name": "Python 3 (ipykernel)",
            "language": "python"
        },
        "language_info": {
            "name": "python",
            "version": "3.8.10",
            "mimetype": "text/x-python",
            "codemirror_mode": {
                "name": "ipython",
                "version": 3
            },
            "pygments_lexer": "ipython3",
            "nbconvert_exporter": "python",
            "file_extension": ".py"
        }
    },
    "nbformat_minor": 2,
    "nbformat": 4,
    "cells": [
        {
            "cell_type": "code",
            "source": [
                "import pandas as pd\r\n",
                "import requests\r\n",
                "from bs4 import BeautifulSoup, Comment\r\n",
                "import re\r\n",
                "import time"
            ],
            "metadata": {
                "azdata_cell_guid": "22929b93-d257-439b-a57e-4a9044a2b2b4",
                "language": "python"
            },
            "outputs": [],
            "execution_count": 18
        },
        {
            "cell_type": "code",
            "source": [
                "url = 'https://www.pro-football-reference.com/years/2022/fantasy.htm'"
            ],
            "metadata": {
                "language": "python",
                "azdata_cell_guid": "5ce67f28-38e8-4ac1-bd70-ad8cbc371a37"
            },
            "outputs": [],
            "execution_count": 19
        },
        {
            "cell_type": "code",
            "source": [
                "def get_player_urls(f_url):\r\n",
                "\r\n",
                "\r\n",
                "    #Get the html for the team\r\n",
                "    roster_page = requests.get(f_url)\r\n",
                "    #Use Beautiful Soup on the HTML content\r\n",
                "    roster_soup = BeautifulSoup(roster_page.content,\"html.parser\")\r\n",
                "   \r\n",
                "\r\n",
                "    # #Use Beautiful soup on the uncommented html\r\n",
                "    # #find all the data-stat attributes and get the link the the player page of the gamelog\r\n",
                "    player_elements = roster_soup.find_all(attrs={\"data-stat\":\"player\"})\r\n",
                "    base_url = 'https://www.pro-football-reference.com'\r\n",
                "    player_list = []\r\n",
                "    for player in player_elements:\r\n",
                "        player_a = player.find(\"a\")\r\n",
                "        if player_a:\r\n",
                "            player_list +=[base_url + player_a[\"href\"] + '/gamelog/']\r\n",
                "    return player_list"
            ],
            "metadata": {
                "language": "python",
                "azdata_cell_guid": "fb43bee4-a26f-4cf0-9892-9153bfa8242a"
            },
            "outputs": [],
            "execution_count": 20
        },
        {
            "cell_type": "code",
            "source": [
                "def get_player_data_frame(play_url):\r\n",
                "    \r\n",
                "    #Pull HTML tables into pandas\r\n",
                "    player_all_df = pd.read_html(play_url)\r\n",
                "    #Use First Table (Regular Season)\r\n",
                "    player_df = player_all_df[0]\r\n",
                "    #Combine Mult-Layer column names\r\n",
                "    player_df.columns = [f'{i}|{j}' if 'Unnamed' not in str(i) else f'{j}' for i,j in player_df.columns]\r\n",
                "\r\n",
                "    #Get html for player page to get player info\r\n",
                "    player_page = requests.get(play_url)\r\n",
                "    #Use Beautiful soup on the html\r\n",
                "    player_soup = BeautifulSoup(player_page.content,'html.parser')\r\n",
                "    #Find id meta for player info\r\n",
                "    player_meta = player_soup.find(id=\"meta\")\r\n",
                "    #Get just the text\r\n",
                "    player_desc =  player_meta.get_text()\r\n",
                "    #Regex search for the player position\r\n",
                "    player_position = re.search('Position:(.*)',player_desc).group(1)\r\n",
                "    #Set player position column\r\n",
                "    player_df['Position'] = player_position\r\n",
                "    #Get just the text for the player name for file\r\n",
                "    player_name = player_soup.h1.span.get_text()\r\n",
                "    return player_df, player_position,player_name"
            ],
            "metadata": {
                "azdata_cell_guid": "a8cfb51f-da1a-43d1-ae3c-b8e5efb46166",
                "language": "python"
            },
            "outputs": [],
            "execution_count": 21
        },
        {
            "cell_type": "code",
            "source": [
                "base_path = fr'C:\\Users\\Tyler\\OneDrive\\Documents\\Fantasy Data'"
            ],
            "metadata": {
                "azdata_cell_guid": "c79b2be8-3f32-4d56-8744-5b0442d258c3",
                "language": "python"
            },
            "outputs": [],
            "execution_count": 22
        },
        {
            "cell_type": "code",
            "source": [
                "import os\r\n",
                "\r\n",
                "time.sleep(5)\r\n",
                "yr=2022\r\n",
                "\r\n",
                "time.sleep(5)\r\n",
                "player_list = get_player_urls(url)\r\n",
                "\r\n",
                "player_list = player_list[:500]\r\n",
                "\r\n",
                "for player in player_list:\r\n",
                "    time.sleep(5)\r\n",
                "    player_data, player_pos, player_name = get_player_data_frame(player)\r\n",
                "\r\n",
                "    player_pos = player_pos.strip()\r\n",
                "\r\n",
                "    newpath = fr'{base_path}\\{yr}\\{player_pos}'\r\n",
                "    if not os.path.exists(newpath):\r\n",
                "        os.makedirs(newpath)\r\n",
                "\r\n",
                "    player_data.to_csv(fr\"{newpath}\\{player_name}.csv\")"
            ],
            "metadata": {
                "language": "python",
                "azdata_cell_guid": "fd7b12a4-94fb-4c2e-b38d-b9601d87ec8f",
                "tags": []
            },
            "outputs": [],
            "execution_count": 23
        }
    ]
}