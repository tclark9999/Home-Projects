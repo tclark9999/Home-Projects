{
    "metadata": {
        "kernelspec": {
            "name": "python3",
            "display_name": "Python 3 (ipykernel)",
            "language": "python"
        },
        "language_info": {
            "name": "python",
            "version": "3.8.10",
            "mimetype": "text/x-python",
            "codemirror_mode": {
                "name": "ipython",
                "version": 3
            },
            "pygments_lexer": "ipython3",
            "nbconvert_exporter": "python",
            "file_extension": ".py"
        }
    },
    "nbformat_minor": 2,
    "nbformat": 4,
    "cells": [
        {
            "cell_type": "code",
            "source": [
                "import pandas as pd\r\n",
                "import os\r\n",
                "import glob"
            ],
            "metadata": {
                "azdata_cell_guid": "1b222963-fc66-4a22-88a3-c35489849ba4",
                "language": "python"
            },
            "outputs": [],
            "execution_count": 1
        },
        {
            "cell_type": "code",
            "source": [
                "def concatenate_player_data(file_path):\r\n",
                "    '''\r\n",
                "    Takes a file path and returns a concatenate data frame of all player csv's in the path\r\n",
                "\r\n",
                "    Args\r\n",
                "    ------\r\n",
                "    file_path (str) = file path where data lives\r\n",
                "\r\n",
                "    Returns\r\n",
                "    --------\r\n",
                "    pd.DataFrame concatenated\r\n",
                "    '''\r\n",
                "    players_list = []\r\n",
                "    \r\n",
                "    csv_files = glob.glob(os.path.join(file_path, \"*.csv\"))\r\n",
                "    # loop over the list of csv files\r\n",
                "    for f in csv_files:\r\n",
                "        \r\n",
                "        # read the csv file\r\n",
                "        player_df = pd.read_csv(f)\r\n",
                "        player_df['Player Name'] = f.replace(file_path + '\\\\','').replace('.csv','').strip()\r\n",
                "        players_list.append(player_df)\r\n",
                "\r\n",
                "    return pd.concat(players_list,ignore_index=True)"
            ],
            "metadata": {
                "language": "python",
                "azdata_cell_guid": "7fb3eabd-cc2b-43c9-912e-a4505ca2430d"
            },
            "outputs": [],
            "execution_count": 2
        },
        {
            "cell_type": "code",
            "source": [
                "positions = ['RB','FB','QB','TE','WR','WR-RB']\r\n",
                "position_path_base = \"C:\\\\Users\\\\Tyler\\\\OneDrive\\\\Documents\\\\Fantasy Data\\\\2022\\\\\"\r\n",
                "write_path_base = \"C:\\\\Users\\\\Tyler\\\\OneDrive\\\\Documents\\\\Fantasy Data\\\\2022\\\\Position Data\\\\\"\r\n",
                "\r\n",
                "for p in positions:\r\n",
                "    position_path = position_path_base + p\r\n",
                "    position_df = concatenate_player_data(position_path)\r\n",
                "\r\n",
                "    write_path = write_path_base + p + '.csv'\r\n",
                "    position_df.to_csv(write_path, index=False)\r\n",
                ""
            ],
            "metadata": {
                "azdata_cell_guid": "7b1702e5-a133-47c1-88f5-2f71142485e4",
                "language": "python",
                "tags": []
            },
            "outputs": [],
            "execution_count": 5
        }
    ]
}